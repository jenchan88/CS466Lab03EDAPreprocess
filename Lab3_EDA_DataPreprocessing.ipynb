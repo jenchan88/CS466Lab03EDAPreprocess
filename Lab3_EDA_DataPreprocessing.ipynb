{
  "nbformat": 4,
  "nbformat_minor": 0,
  "metadata": {
    "colab": {
      "provenance": [],
      "include_colab_link": true
    },
    "kernelspec": {
      "name": "python3",
      "display_name": "Python 3"
    },
    "language_info": {
      "name": "python"
    }
  },
  "cells": [
    {
      "cell_type": "markdown",
      "metadata": {
        "id": "view-in-github",
        "colab_type": "text"
      },
      "source": [
        "<a href=\"https://colab.research.google.com/github/jenchan88/CS466Lab03EDAPreprocess/blob/main/Lab3_EDA_DataPreprocessing.ipynb\" target=\"_parent\"><img src=\"https://colab.research.google.com/assets/colab-badge.svg\" alt=\"Open In Colab\"/></a>"
      ]
    },
    {
      "cell_type": "code",
      "source": [],
      "metadata": {
        "id": "pVBYhs_V_4cV"
      },
      "execution_count": null,
      "outputs": []
    },
    {
      "cell_type": "markdown",
      "source": [
        "#Due Date: May 03\n",
        "\n",
        "\n",
        "\n",
        " **This assignment must be done individually. Demo your assignment to the instructor/ TA. Upload your submission to Canvas after you demo your assignment**.  "
      ],
      "metadata": {
        "id": "R9wb4WBr_75s"
      }
    },
    {
      "cell_type": "markdown",
      "source": [
        "**Assignment**:\n",
        "\n",
        "You are provided with a dataset containing details of policyholders at an insurance company. The dataset includes attributes such as ID, occupation, gender, age, motor value, policy type, and preferred contact channel. Your task is to perform exploratory data analysis (EDA) on the dataset to identify which attributes are useful for classifying policy types.\n",
        "\n",
        "1. Load the dataset and display the first few rows to understand its structure. Create a dataframe.\n",
        "2. Check for missing values and handle them if necessary.\n",
        "3. Explore the distribution of numerical features using histograms.\n",
        "4. Visualize relationships between features and the target variable (Policy Type) using appropriate plots.\n",
        "5. Compute statistical measures and correlations to identify useful attributes.\n",
        "6. Summarize your findings and provide recommendations for further analysis.\n",
        "\n",
        "Based on your analysis, determine which attributes are most useful for classifying policy types and explain your reasoning.\n",
        "\n",
        "Ensure to provide appropriate visualizations, interpret the results, and justify your conclusions based on the exploratory data analysis performed.\n",
        " Provide your code along with explanations and insights derived from the analysis in your answer."
      ],
      "metadata": {
        "id": "685v3oeU_4x_"
      }
    },
    {
      "cell_type": "markdown",
      "source": [
        "The table below shows a sample of a larger dataset containing details of policy holders at an insurance company.  The descriptive features included in the table describe each policy holders' ID, occuption, gender, age, the value of their car, the type of insurance policy they hold, and their preferred contact channel.\n",
        "\n",
        "ID  |Occupation       |Gender   |Age    |Motor Value   |Policy Type    |Pref Channel  \n",
        "----|:---------------:|:-------:|:-----:|:------------:|:-------------:|:------------:\n",
        " 1  | lab tech        |female   |43     |42,632        |planC          |sms\n",
        " 2  | farmhand        |female   |57     |22,096        |planA          |phone\n",
        " 3  | biophysicist    |male     |21     |27,221        |planA          |phone\n",
        " 4  | sheriff         |female   |47     |21,460        |planB          |phone\n",
        " 5  | painter         |male     |55     |13,976        |planC          |phone\n",
        " 6  | manager         |male     |19     |4,866         |planA          |email\n",
        " 7  | geologist       |male     |51     |12,759        |planC          |phone\n",
        " 8  | messenger       |male     |49     |15,672        |planB          |phone\n",
        " 9  | nurse           |female   |18     |16,399        |planC          |sms\n",
        " 10 | fire inspector  |male     |47     |14,767        |planC          |email"
      ],
      "metadata": {
        "id": "WcLxQs3kBIvs"
      }
    },
    {
      "cell_type": "markdown",
      "source": [
        "#### Question: State whether each descriptive feature contains numeric, interval, ordinal, categorical, binary, or textual data.\n",
        "\n",
        "     - ID:              \n",
        "     - Occupation:      \n",
        "     - Gender:          \n",
        "     - Age:             \n",
        "     - Motor Value:     \n",
        "     - Policy Type:     \n",
        "     - Pref Channel:    "
      ],
      "metadata": {
        "id": "G3gV3H52BNYg"
      }
    }
  ]
}